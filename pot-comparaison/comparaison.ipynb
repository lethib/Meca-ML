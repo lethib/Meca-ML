{
 "cells": [
  {
   "cell_type": "markdown",
   "metadata": {},
   "source": [
    "# Comparaison des potentiels \n",
    "\n",
    "L'idée est de comparer 3 différents potentiels (Stillinger-Weber, ReaxFF et le potentiel ML) pour voir lequel colle plus aux données de materialsproject.\n",
    "\n",
    "On réalise différentes simulations sur du Silicium Bulk avec une simple relaxation. On fait varier le paramètre de mail pour trouver le volume atomique correspondant au minium de l'énergie potentielle atomique. Ainsi on aura $\\vec{F} = \\vec{\\nabla} E = \\vec{0}$ et donc une pression nulle."
   ]
  },
  {
   "cell_type": "markdown",
   "metadata": {},
   "source": [
    "## Scripts Python"
   ]
  },
  {
   "cell_type": "markdown",
   "metadata": {},
   "source": [
    "### data.py\n",
    "\n",
    "Ce fichier contient toutes les données nécessaires à l'élaboration des graphes pour comparer les potentiels : \n",
    "- Le nombre d'atomes `nb_atoms`\n",
    "- La valeur de l'énergie finale du système pour chaque paramètre de maille et pour chaque potentiels (`energies_sw`, `energies_reaxff`, `energies_ML`) sous forme de dictionnaire Python."
   ]
  },
  {
   "cell_type": "code",
   "execution_count": null,
   "metadata": {},
   "outputs": [],
   "source": [
    "nb_atoms = 512\n",
    "\n",
    "energies_sw = {\n",
    "    5.20:-2162.88454000926,\n",
    "    5.25:-2185.72151412785,\n",
    "    5.30:-2202.54042251993,\n",
    "    5.35:-2213.66018486908,\n",
    "    5.40:-2219.38025634342,\n",
    "    5.41:-2219.90138829236,\n",
    "    5.42:-2220.22002275148,\n",
    "    5.43:-2220.33830647777,\n",
    "    5.44:-2220.25836117819,\n",
    "    5.45:-2219.98228396957,\n",
    "    5.50:-2215.73165376898,\n",
    "    5.55:-2206.87893132819,\n",
    "    5.60:-2193.66120682382,\n",
    "}\n",
    "\n",
    "energies_reaxff = {\n",
    "    5.20:-53653.5274840194,\n",
    "    5.25:-53888.3451265694,\n",
    "    5.28:-53968.3873573059,\n",
    "    5.29:-53985.0738692473,\n",
    "    5.30:-53996.8001966322,\n",
    "    5.31:-54003.5871227578,\n",
    "    5.32:-54005.4545499938,\n",
    "    5.33:-54002.421532895,\n",
    "    5.35:-53981.7263886136,\n",
    "    5.40:-53845.4213658125,\n",
    "    5.45:-53589.7839709036,\n",
    "    5.50:-53216.5168833381,\n",
    "}\n",
    "\n",
    "energies_ML = {\n",
    "    5.20:-2700.0497984429,\n",
    "    5.25:-2725.19873145526,\n",
    "    5.30:-2744.94583066872,\n",
    "    5.35:-2759.51484859502,\n",
    "    5.40:-2769.04295691001,\n",
    "    5.45:-2773.66767700109,\n",
    "    5.46:-2774.02054202885,\n",
    "    5.47:-2774.18721730376,\n",
    "    5.48:-2774.16997205282,\n",
    "    5.50:-2773.59366064231,\n",
    "    5.55:-2769.12535499695,\n",
    "    5.60:-2760.66059495204,\n",
    "    5.65:-2748.64984439282,\n",
    "}"
   ]
  },
  {
   "cell_type": "markdown",
   "metadata": {},
   "source": [
    "### graph.py\n",
    "\n",
    "Ce script contient l'algorithme pour afficher et comparer les 3 potentiels sur 3 graphiques différents (problème d'échelle) mais sur une même figure. Self-explanatory scripts thanks to comments."
   ]
  },
  {
   "cell_type": "code",
   "execution_count": 3,
   "metadata": {},
   "outputs": [
    {
     "data": {
      "image/png": "[encoded data removed]",
      "text/plain": [
       "<Figure size 432x288 with 3 Axes>"
      ]
     },
     "metadata": {
      "needs_background": "light"
     },
     "output_type": "display_data"
    }
   ],
   "source": [
    "import matplotlib.pyplot as plt\n",
    "from data import *\n",
    "\n",
    "# Sort by keys, returns a list of tuples\n",
    "sw = sorted(energies_sw.items())\n",
    "reaxff = sorted(energies_reaxff.items())\n",
    "pot_ml = sorted(energies_ML.items())\n",
    "\n",
    "# Unpack lists of pairs into two tuples\n",
    "a_sw, e_sw = zip(*sw)\n",
    "a_reax, e_reax = zip(*reaxff)\n",
    "a_pot_ml, e_pot_ml = zip(*pot_ml)\n",
    "\n",
    "# Convert to correct value for the graph\n",
    "v_at_sw = [((a*4)**3)/nb_atoms for a in a_sw]\n",
    "e_at_sw = [e/nb_atoms for e in e_sw]\n",
    "\n",
    "v_at_reax = [((a*4)**3)/nb_atoms for a in a_reax]\n",
    "e_at_reax = [e/nb_atoms for e in e_reax]\n",
    "\n",
    "v_at_pot_ml = [((a*4)**3)/nb_atoms for a in a_pot_ml]\n",
    "e_at_pot_ml = [e/nb_atoms for e in e_pot_ml]\n",
    "\n",
    "# Plot on 3 different graphs (scale problem) but on the same figure\n",
    "fig, axs = plt.subplots(1, 3)\n",
    "fig.suptitle('Atomic Energy vs Atomic volume')\n",
    "\n",
    "axs[0].plot(v_at_sw,e_at_sw, c='orange')\n",
    "axs[0].set_title('SW')\n",
    "axs[1].plot(v_at_reax,e_at_reax, c='red')\n",
    "axs[1].set_title('ReaxFF')\n",
    "axs[2].plot(v_at_pot_ml,e_at_pot_ml, c='green')\n",
    "axs[2].set_title('Pot ML')\n",
    "\n",
    "# plt.plot(v_at_sw,e_at_sw,label='SW')\n",
    "# plt.plot(v_at_reax,e_at_reax,label='ReaxFF')\n",
    "# plt.plot(v_at_pot_ml,e_at_pot_ml,label='Pot ML')\n",
    "# plt.legend(loc='best')\n",
    "\n",
    "fig.text(0.5, 0.02, 'Atomic Volume ($\\mathring{A}^3$)', ha='center', va='center')\n",
    "fig.text(0.03, 0.5, 'Potential Atomic Energy ($eV/atom$)', ha='center', va='center', rotation='vertical')\n",
    "\n",
    "plt.tight_layout()\n",
    "plt.show()"
   ]
  },
  {
   "cell_type": "markdown",
   "metadata": {},
   "source": [
    "## Résultats\n",
    "\n",
    "On peut alors trouver le paramètre de maille minimisant l'énergie potentielle interatomique : "
   ]
  },
  {
   "cell_type": "markdown",
   "metadata": {},
   "source": [
    "<center>\n",
    "\n",
    "|             | Stillinger-Weber | ReaxFF | Machine-Learning Potential |\n",
    "|-------------|:------------------:|:------------------:|:------------:|\n",
    "| $a_{\\text{équilibre}}~(\\mathring{A})$ | 5.428 | 5.318 | 5.473 |\n",
    "| Bulk Modulus (GPa) | 102.50 | 2238.15 | 106.82 |\n",
    "| Shear Modulus 1 (GPa) | 50.35 | 1573.56 | 71.90 |\n",
    "| Shear Modulus 2 (GPa) | 34.42 | 977.56 | 12.45 |\n",
    "| Poisson Ratio | 0.34 | 0.31 | 0.44 |\n",
    "| Young Modulus (GPa) | 131.34 | 3937.10 | 185.38 |"
   ]
  },
  {
   "cell_type": "markdown",
   "metadata": {},
   "source": [
    "SW : \n",
    "C tensor [GPa]\n",
    "\n",
    " 151.93387  78.479826  78.393464 -1.7588216 0.21459863 -1.9369353 \n",
    "\n",
    " 78.479826  150.34503  77.788894 -2.6637159 -0.39278382 -2.5911237 \n",
    "\n",
    " 78.393464  77.788894  150.88489  1.0061066 0.090228567 -4.3073338 \n",
    "\n",
    "-1.7588216 -2.6637159  1.0061066  49.920211 -2.8213986 -4.9043297 \n",
    "\n",
    "0.21459863 -0.39278382 0.090228567 -2.8213986  54.245409 -3.7743875 \n",
    "\n",
    "-1.9369353 -2.5911237 -4.3073338 -4.9043297 -3.7743875  46.896951 "
   ]
  },
  {
   "cell_type": "markdown",
   "metadata": {},
   "source": [
    "C tensor [GPa]\n",
    "\n",
    " 123.93458  98.566324    98.9662 -0.58834243  1.1749341  1.6245204 \n",
    "\n",
    " 98.566324  122.67002  98.027542 -1.2944634 -0.035293393 0.97419232 \n",
    "\n",
    "   98.9662  98.027542  123.68172 -1.2511535 0.61476682 0.059306493 \n",
    "\n",
    "-0.58834243 -1.2944634 -1.2511535  70.473088 -0.027643937 0.26081853 \n",
    "\n",
    " 1.1749341 -0.035293393 0.61476682 -0.027643937  72.312476 0.94138185\n",
    "  \n",
    " 1.6245204 0.97419232 0.059306493 0.26081853 0.94138185  72.938859"
   ]
  },
  {
   "cell_type": "markdown",
   "metadata": {},
   "source": [
    "### Reste à faire\n",
    "\n",
    "> Calculer le tenseur des contraintes pour les 3 potentiels avec la valeur du paramètre de maille à l'équilibre\n",
    "\n",
    "> Comparer les résultats entre les 3 potentiels"
   ]
  }
 ],
 "metadata": {
  "kernelspec": {
   "display_name": "Python 3.9.6 64-bit",
   "language": "python",
   "name": "python3"
  },
  "language_info": {
   "codemirror_mode": {
    "name": "ipython",
    "version": 3
   },
   "file_extension": ".py",
   "mimetype": "text/x-python",
   "name": "python",
   "nbconvert_exporter": "python",
   "pygments_lexer": "ipython3",
   "version": "3.9.6"
  },
  "orig_nbformat": 4,
  "vscode": {
   "interpreter": {
    "hash": "aee8b7b246df8f9039afb4144a1f6fd8d2ca17a180786b69acc140d282b71a49"
   }
  }
 },
 "nbformat": 4,
 "nbformat_minor": 2
}
