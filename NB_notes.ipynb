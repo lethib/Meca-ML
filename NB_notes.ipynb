{
 "cells": [
  {
   "cell_type": "markdown",
   "metadata": {},
   "source": [
    "# Notes en Vrac"
   ]
  },
  {
   "cell_type": "markdown",
   "metadata": {},
   "source": [
    "## Notes RAF sur les Cijkl\n",
    "\n",
    "> Pour le rapport `\\def\\doubleunderline#1{\\underline{\\underline{#1}}}`\n",
    "\n",
    "**Ne pas confondre les $C_{ijkl}$ avec les `pxx pyy pzz` du `log.lammps`**\n",
    "\n",
    "La matrice des contraintes est la suivante : \n",
    "\n",
    "$$ \n",
    "\\begin{equation}\n",
    "    \\underline{\\underline{\\sigma}} = \n",
    "    \\begin{pmatrix}\n",
    "        \\sigma_{11} & \\sigma_{12} & \\sigma_{13}\\\\\n",
    "        \\sigma_{21} & \\sigma_{22} & \\sigma_{23}\\\\\n",
    "        \\sigma_{31} & \\sigma_{32} & \\sigma_{33}\n",
    "    \\end{pmatrix}\n",
    "    \\quad\n",
    "    \\text{where}\n",
    "    \\quad\n",
    "    \\sigma_{ij} = C_{ijkl} \\cdot \\epsilon_{kl}\n",
    "\\end{equation}\n",
    "$$\n",
    "\n",
    "Donc il vient que : \n",
    "\n",
    "$$\n",
    "\\begin{equation}\n",
    "    \\begin{aligned}\n",
    "        \\sigma_{11} & = C_{11kl}\\cdot\\epsilon_{kl}\\\\\n",
    "        & = C_{1111}\\cdot\\epsilon_{11} + C_{1122}\\cdot\\epsilon_{22} + C_{1133}\\cdot\\epsilon_{33}\\\\\n",
    "    \\end{aligned}\n",
    "\\end{equation}\n",
    "$$\n",
    "\n",
    "Or on sait que (seulement dans un cas isotrope ?) : $\\epsilon_{22} = \\epsilon_{33} = -\\nu\\cdot\\epsilon_{11} $\n",
    "\n",
    "Donc on a alors : \n",
    "\n",
    "$$\n",
    "\\begin{equation}\n",
    "    \\begin{aligned}\n",
    "        \\sigma_{11} & = (\\lambda + 2\\mu)\\cdot\\epsilon_{11} - 2\\nu\\lambda\\cdot\\epsilon_{11}\\\\\n",
    "        & = \\left[\\lambda (1-2\\nu) + 2\\mu\\right]\\cdot\\epsilon_{11} \\\\\n",
    "    \\end{aligned}\n",
    "\\end{equation}\n",
    "$$\n",
    "\n",
    "On peut alors identifier le module : $E = \\left[\\lambda (1-2\\nu) + 2\\mu\\right]$\n",
    "\n",
    "En plus, on sait que : $\\nu = \\frac{\\lambda}{2(\\lambda + \\mu)}$\n",
    "\n",
    "Il vient alors que : \n",
    "\n",
    "$$\n",
    "\\begin{equation}\n",
    "    E = \\frac{\\lambda\\cdot\\mu + 2\\mu\\lambda + 2\\mu^2}{\\lambda + \\mu} = \\frac{\\mu(3\\lambda + 2\\mu)}{\\lambda + \\mu}\n",
    "\\end{equation}\n",
    "$$\n",
    "\n",
    "\n",
    "Avec les $C_{ijkl}$, on peut tout retrouver. Mais pour ça, il faut faire 6 tests indépendants pour pouvoir calculer tous les termes (dans le cas général) : traction selon x,y et z puis cisaillement selon x,z et z. "
   ]
  },
  {
   "cell_type": "markdown",
   "metadata": {},
   "source": [
    "## Notes calcul Cijkl\n",
    "\n",
    "Élaboration d'un code LAMMPS pour calculer les Cijkl. Tilt impossible pour une structure cubique (il faut une structure triclinique pour faire les calculs en dynamique moléculaire). Le mélange de calcul entre la dynamique moléculaire et de la mécanique pour calculer les coefficients du tenseur des contraintes apporte des erreurs. Il faut faire le test de relaxation et de traction avant et ensuite, faire lire au programme de calcul des coefficients, le `dump.file`. Il pourra alors pour une configuration (un timestep précis) faire ses calculs. Pour commencer, on va relaxer une boîte simple contenant des atoms de Silicium. "
   ]
  }
 ],
 "metadata": {
  "language_info": {
   "name": "python"
  },
  "orig_nbformat": 4
 },
 "nbformat": 4,
 "nbformat_minor": 2
}
