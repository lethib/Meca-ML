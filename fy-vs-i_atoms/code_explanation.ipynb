{
 "cells": [
  {
   "cell_type": "markdown",
   "metadata": {},
   "source": [
    "# Code explanation for the fy-vs-i_atoms"
   ]
  },
  {
   "cell_type": "markdown",
   "metadata": {},
   "source": [
    "## Requirements\n",
    "\n",
    "- Needs to have a **dump.file** inside the **fy-vs-i_atoms** folder to run the code. *You can also change the path in the **main.py** file.*\n",
    "- Needs **function.py** in the same folder as **main.py** to run.\n",
    "- Needs `matplotlib` to print graphs. Run the following command in terminal to install the library: `pip install matplotlib`.\n",
    "- Needs `linecache` to read the file. Run the following command in the terminal to install the library: `pip install linecache`."
   ]
  },
  {
   "cell_type": "markdown",
   "metadata": {},
   "source": [
    "## function.py\n",
    "\n",
    "This file contains all the functions used by the **main.py** file. Each functions are well commented."
   ]
  },
  {
   "cell_type": "code",
   "execution_count": null,
   "metadata": {},
   "outputs": [],
   "source": [
    "import linecache\n",
    "import numpy as np\n",
    "\n",
    "def split_atom_info(info):\n",
    "    \"\"\"Atom info string -> Atom info list\"\"\"\n",
    "    res = info.strip('\\n')\n",
    "    atom = res.split(' ')\n",
    "    return atom\n",
    "\n",
    "def go_to_timestep(filename, int_timestep):\n",
    "    \"\"\"Returns the start line as an integer of atoms info for a given TIMESTEP\"\"\"\n",
    "    nb_atoms = int(linecache.getline(filename,4))\n",
    "    return (int_timestep*(nb_atoms+9) + 10)\n",
    "\n",
    "def extract_atoms_info(filename, start_line):\n",
    "    \"\"\"Returns an array with all atoms info for a given TIMESTEP\"\"\"\n",
    "    atoms_TS = []\n",
    "    nb_atoms = int(linecache.getline(filename, 4))\n",
    "\n",
    "    for i in range(start_line, start_line+nb_atoms):\n",
    "        atom_info = split_atom_info(linecache.getline(filename, i))\n",
    "        atoms_TS.append(atom_info + [i]) #To get the line number\n",
    "    \n",
    "    return np.array(atoms_TS)\n",
    "\n",
    "def get_fy_and_id_atoms(atoms_array):\n",
    "    \"\"\"Returns the list of fy values and atoms id from an atoms info array\"\"\"\n",
    "    fy = []\n",
    "    id_atoms = []\n",
    "    for i in range(len(atoms_array)):\n",
    "        fy.append(float(atoms_array[i][6]))\n",
    "        id_atoms.append(int(atoms_array[i][0]))\n",
    "    return fy, id_atoms"
   ]
  },
  {
   "cell_type": "markdown",
   "metadata": {},
   "source": [
    "## main.py\n",
    "\n",
    "This file contains the code that runs functions in the correct order to print a final graph. This code is self-explanatory thanks to the comment."
   ]
  },
  {
   "cell_type": "code",
   "execution_count": null,
   "metadata": {},
   "outputs": [],
   "source": [
    "from function import *\n",
    "import matplotlib.pyplot as plt\n",
    "\n",
    "# Define Variables\n",
    "filename = r'fy-vs-i_atoms/dump.test'\n",
    "timestep_chosen = int(input('Numéro du timestep : '))\n",
    "\n",
    "# Process\n",
    "start_line = go_to_timestep(filename, timestep_chosen)\n",
    "atoms_info = extract_atoms_info(filename, start_line)\n",
    "fy, id_atoms = get_fy_and_id_atoms(atoms_info)\n",
    "log_id_atoms = np.log(id_atoms)\n",
    "\n",
    "# Plot\n",
    "plt.scatter(log_id_atoms, fy)\n",
    "plt.xlabel('ln(id_atoms)')\n",
    "plt.ylabel('fy')\n",
    "plt.title('fy vs ln(id_atoms) for this TIMESTEP : ' + str(timestep_chosen))\n",
    "plt.show()"
   ]
  }
 ],
 "metadata": {
  "kernelspec": {
   "display_name": "Python 3.9.6 64-bit",
   "language": "python",
   "name": "python3"
  },
  "language_info": {
   "codemirror_mode": {
    "name": "ipython",
    "version": 3
   },
   "file_extension": ".py",
   "mimetype": "text/x-python",
   "name": "python",
   "nbconvert_exporter": "python",
   "pygments_lexer": "ipython3",
   "version": "3.9.6"
  },
  "orig_nbformat": 4,
  "vscode": {
   "interpreter": {
    "hash": "aee8b7b246df8f9039afb4144a1f6fd8d2ca17a180786b69acc140d282b71a49"
   }
  }
 },
 "nbformat": 4,
 "nbformat_minor": 2
}
