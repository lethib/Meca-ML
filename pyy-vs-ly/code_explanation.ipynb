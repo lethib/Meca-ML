{
 "cells": [
  {
   "cell_type": "markdown",
   "metadata": {},
   "source": [
    "# Code explanation for the pyy-vs-ly folder"
   ]
  },
  {
   "cell_type": "markdown",
   "metadata": {},
   "source": [
    "## Requirements\n",
    "\n",
    "- Needs to have a **log.lammps** file, with `pxx` `pyy` and `pzz` in the arguments of the `thermo_style` command, inside the **pyy-vs-ly** folder to run the code. *You can also change the path in the **main.py** file.*\n",
    "- Needs **function.py** in the same folder as **main.py** to run.\n",
    "- Needs `matplotlib` to print graphs. Run the following command in the terminal to install the library: `pip install matplotlib`.\n",
    "- Needs `linecache` to read the file. Run the following command in the terminal to install the library: `pip install linecache`."
   ]
  },
  {
   "cell_type": "markdown",
   "metadata": {},
   "source": [
    "## function.py\n",
    "\n",
    "This file contains all the functions used by the **main.py** file. Each functions are commented."
   ]
  },
  {
   "cell_type": "code",
   "execution_count": null,
   "metadata": {},
   "outputs": [],
   "source": [
    "import linecache\n",
    "import numpy as np \n",
    "\n",
    "def split_atom_info_head(info):\n",
    "    \"\"\"Atom info string -> Atom info list\"\"\"\n",
    "    res = info.strip('\\n')\n",
    "    atom = res.split('\\t')\n",
    "    return atom\n",
    "\n",
    "def split_atom_info(info):\n",
    "    \"\"\"Atom info string -> Atom info list\"\"\"\n",
    "    res = info.strip('\\n')\n",
    "    atom = res.split(' ')\n",
    "    return atom\n",
    "\n",
    "\n",
    "def extract_atoms_info(log_filename):\n",
    "    \"\"\"Extracts all infos from the log.lammps file. Returns an array\"\"\"\n",
    "    info = []\n",
    "    run_thermo = int(split_atom_info_head(linecache.getline(log_filename,211))[2])\n",
    "    run = int(split_atom_info_head(linecache.getline(log_filename,227))[2])\n",
    "    nb_values = int(run/run_thermo)\n",
    "\n",
    "    for i in range(230, 230+nb_values+1):\n",
    "        temp = split_atom_info(linecache.getline(log_filename,i))\n",
    "        temp = [i for i in temp if i != '']\n",
    "        info.append(temp)\n",
    "\n",
    "    return np.array(info)\n",
    "\n",
    "def get_pyy_ly(atoms_array):\n",
    "    pyy = []\n",
    "    ly = []\n",
    "    for i in range(len(atoms_array)):\n",
    "        pyy.append(-float(atoms_array[i][2]))\n",
    "        ly.append(float(atoms_array[i][9]))\n",
    "    return pyy, ly\n",
    "\n",
    "def get_l0(atoms_array):\n",
    "    \"\"\"Returns the value of l0\"\"\"\n",
    "    return float(atoms_array[0][9])\n",
    "\n",
    "def young_module(list_pyy, list_ly, l0):\n",
    "    \"\"\"Returns the value of the Young Module\"\"\"\n",
    "    young = []\n",
    "    eps = []\n",
    "    delta_eps = []\n",
    "    delta_pyy = []\n",
    "    for i in range(len(list_ly)):\n",
    "        eps_i = (list_ly[i]-l0)/l0\n",
    "        eps.append(eps_i)\n",
    "\n",
    "    for j in range(70,len(eps)-1):\n",
    "        delta_eps.append(eps[j+1] - eps[j])\n",
    "        delta_pyy.append(list_pyy[j+1] - list_pyy[j])\n",
    "    \n",
    "    for k in range(len(delta_eps)):\n",
    "        young.append(delta_pyy[k]/delta_eps[k])\n",
    "    return np.mean(young), eps, len(list_pyy)"
   ]
  },
  {
   "cell_type": "markdown",
   "metadata": {},
   "source": [
    "## main.py\n",
    "\n",
    "This file contains the code that runs functions in the correct order to print a final graph. This code is self-explanatory thanks to the comments. "
   ]
  },
  {
   "cell_type": "code",
   "execution_count": null,
   "metadata": {},
   "outputs": [],
   "source": [
    "from function import *\n",
    "import matplotlib.pyplot as plt \n",
    "\n",
    "# Define Variables\n",
    "# filenames = [r'log.lammps-0,8', r'log.lammps-0,6', r'log.lammps-0,4', r'log.lammps-0,2', r'log.lammps-0,1', r'log.lammps']\n",
    "filenames = [r'log.lammps_reaxffV4']\n",
    "\n",
    "# Process\n",
    "for file in filenames:\n",
    "    info = extract_atoms_info(file)\n",
    "    pyy, ly = get_pyy_ly(info)\n",
    "    if file == filenames[0]:\n",
    "        young, eps, len = young_module(pyy, ly, get_l0(info))        \n",
    "        plt.scatter(eps, pyy)\n",
    "        plt.plot(eps,pyy, label= '0,0 bin')\n",
    "        plt.xlabel('eps_y')\n",
    "        print(young)\n",
    "        print(len)\n",
    "    else :\n",
    "        plt.scatter(ly, pyy)\n",
    "        plt.plot(ly,pyy, label= '0,' + file[13] + ' bin')\n",
    "        plt.xlabel('ly')\n",
    "\n",
    "# Plot\n",
    "plt.ylabel('pyy')\n",
    "plt.legend(loc='best')\n",
    "plt.title('pyy vs eps_y')\n",
    "plt.show()"
   ]
  }
 ],
 "metadata": {
  "kernelspec": {
   "display_name": "Python 3.9.6 64-bit",
   "language": "python",
   "name": "python3"
  },
  "language_info": {
   "name": "python",
   "version": "3.9.6"
  },
  "orig_nbformat": 4,
  "vscode": {
   "interpreter": {
    "hash": "aee8b7b246df8f9039afb4144a1f6fd8d2ca17a180786b69acc140d282b71a49"
   }
  }
 },
 "nbformat": 4,
 "nbformat_minor": 2
}
